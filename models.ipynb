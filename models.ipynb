{
 "cells": [
  {
   "cell_type": "code",
   "execution_count": null,
   "metadata": {},
   "outputs": [],
   "source": [
    "'''\n",
    "Welcome to our Notebook!\n",
    "\n",
    "This is for the Urban Air Quality Group\n",
    "\n",
    "Group Members: Selma, Ethan, Sophiya\n",
    "'''"
   ]
  },
  {
   "cell_type": "code",
   "execution_count": null,
   "metadata": {},
   "outputs": [],
   "source": [
    "# imports\n",
    "import matplotlib.pyplot as plt\n",
    "import numpy as np\n",
    "import pandas as pd\n",
    "import seaborn as sns\n",
    "from sklearn.preprocessing import StandardScaler\n",
    "from sklearn.linear_model import LinearRegression"
   ]
  },
  {
   "cell_type": "code",
   "execution_count": null,
   "metadata": {},
   "outputs": [],
   "source": [
    "# Read the CSV file\n",
    "df = pd.read_csv('particulates.csv')\n",
    "\n",
    "df.head()"
   ]
  },
  {
   "cell_type": "code",
   "execution_count": null,
   "metadata": {},
   "outputs": [],
   "source": [
    "# Filter for air pollution data\n",
    "air_pollution_data = df[df['Risk factor'] == 'Air pollution']\n",
    "\n",
    "# Extract key metrics\n",
    "deaths_1990 = air_pollution_data[\n",
    "    (air_pollution_data['Year'] == 1990) & \n",
    "    (air_pollution_data['Measure'] == 'Deaths per 100,000')\n",
    "]['Value'].values[0]\n",
    "\n",
    "deaths_2021 = air_pollution_data[\n",
    "    (air_pollution_data['Year'] == 2021) & \n",
    "    (air_pollution_data['Measure'] == 'Deaths per 100,000')\n",
    "]['Value'].values[0]\n",
    "\n",
    "# Percentage change\n",
    "pct_change = air_pollution_data[\n",
    "    (air_pollution_data['Year'] == '1990 - 2021') & \n",
    "    (air_pollution_data['Measure'] == 'Deaths % change')\n",
    "]['Value'].values[0]\n",
    "\n",
    "# Visualization\n",
    "plt.figure(figsize=(10, 6))\n",
    "plt.bar(['1990', '2021'], [deaths_1990, deaths_2021], color=['blue', 'green'])\n",
    "plt.title('Air Pollution Deaths per 100,000 (1990 vs 2021)')\n",
    "plt.ylabel('Deaths per 100,000')\n",
    "plt.tight_layout()\n",
    "plt.show()\n",
    "\n",
    "print(f\"Air Pollution Deaths per 100,000 in 1990: {deaths_1990:.2f}\")\n",
    "print(f\"Air Pollution Deaths per 100,000 in 2021: {deaths_2021:.2f}\")\n",
    "print(f\"Percentage Change (1990-2021): {pct_change * 100:.2f}%\")"
   ]
  },
  {
   "cell_type": "code",
   "execution_count": null,
   "metadata": {},
   "outputs": [],
   "source": []
  }
 ],
 "metadata": {
  "kernelspec": {
   "display_name": "Python 3",
   "language": "python",
   "name": "python3"
  },
  "language_info": {
   "codemirror_mode": {
    "name": "ipython",
    "version": 3
   },
   "file_extension": ".py",
   "mimetype": "text/x-python",
   "name": "python",
   "nbconvert_exporter": "python",
   "pygments_lexer": "ipython3",
   "version": "3.12.6"
  }
 },
 "nbformat": 4,
 "nbformat_minor": 2
}
