{
 "cells": [
  {
   "cell_type": "code",
   "execution_count": null,
   "metadata": {},
   "outputs": [],
   "source": [
    "'''\n",
    "Welcome to our Notebook!\n",
    "\n",
    "This is for the Urban Air Quality Group\n",
    "\n",
    "Group Members: Selma, Ethan, Sophiya\n",
    "'''"
   ]
  },
  {
   "cell_type": "code",
   "execution_count": null,
   "metadata": {},
   "outputs": [],
   "source": [
    "# imports\n",
    "import matplotlib.pyplot as plt\n",
    "import numpy as np\n",
    "import pandas as pd\n",
    "import seaborn as sns\n",
    "from sklearn.preprocessing import StandardScaler, PolynomialFeatures\n",
    "from sklearn.linear_model import LinearRegression\n",
    "from sklearn.model_selection import train_test_split\n",
    "from sklearn.metrics import mean_squared_error, r2_score\n",
    "from scipy import stats"
   ]
  },
  {
   "cell_type": "code",
   "execution_count": null,
   "metadata": {},
   "outputs": [],
   "source": [
    "# Read the CSV file\n",
    "df = pd.read_csv('IHME_GBD_2021_AIR_POLLUTION_1990_2021_PM_Y2022M01D31.csv')\n",
    "\n",
    "df.head()"
   ]
  },
  {
   "cell_type": "code",
   "execution_count": null,
   "metadata": {},
   "outputs": [],
   "source": [
    "print(df.columns)"
   ]
  },
  {
   "cell_type": "code",
   "execution_count": null,
   "metadata": {},
   "outputs": [],
   "source": [
    "# graph boxplot\n",
    "# Create a boxplot\n",
    "plt.figure(figsize=(14, 7))\n",
    "sns.boxplot(data=df[['mean', 'lower', 'upper']])\n",
    "plt.title('Boxplot of Pollution Data')\n",
    "plt.ylabel('Pollution Levels')\n",
    "plt.xlabel('Metrics (Mean, Lower, Upper)')\n",
    "plt.show()\n"
   ]
  },
  {
   "cell_type": "code",
   "execution_count": null,
   "metadata": {},
   "outputs": [],
   "source": [
    "# Filter the data to include only rows between 1990 and 2021\n",
    "filtered_df = df[(df['year_id'] >= 1997) & (df['year_id'] <= 2021)]\n",
    "\n",
    "# Group by 'Year' and calculate the mean and median for the 'Value' column\n",
    "stats = filtered_df.groupby('year_id')['mean'].agg(['mean', 'median']).reset_index()\n",
    "\n",
    "# Plot the mean and median\n",
    "plt.figure(figsize=(12, 6))\n",
    "plt.plot(stats['year_id'], stats['mean'], label='Mean', marker='o')\n",
    "plt.plot(stats['year_id'], stats['median'], label='Median', marker='s')\n",
    "plt.title('PM2.5, Micrograms Per Cubic Meter (1990-2021) Globally')\n",
    "plt.xlabel('Year')\n",
    "plt.ylabel('PM2.5, Micrograms per Cubic Meter')\n",
    "plt.legend()\n",
    "plt.grid(True)\n",
    "plt.show()"
   ]
  },
  {
   "cell_type": "code",
   "execution_count": null,
   "metadata": {},
   "outputs": [],
   "source": [
    "\n",
    "\n",
    "# Filter the data for years 1990–2021 and location_name == 'United States of America'\n",
    "filtered_df = df[(df['year_id'] >= 1997) & (df['year_id'] <= 2021) & (df['location_name'] == 'United States of America')]\n",
    "\n",
    "# Group by 'year_id' and calculate mean and median\n",
    "filtered_PM_data = filtered_df.groupby('year_id')[['mean', 'median']].mean().reset_index()\n",
    "\n",
    "# Plot the mean and median\n",
    "plt.figure(figsize=(12, 6))\n",
    "plt.plot(stats['year_id'], stats['mean'], label='Mean', marker='o', linestyle='-')\n",
    "plt.plot(stats['year_id'], stats['median'], label='Median', marker='s', linestyle='--')\n",
    "plt.title('Mean and Median Values in the USA (1990-2021)')\n",
    "plt.xlabel('Year')\n",
    "plt.ylabel('PM2.5, Micrograms per Cubic Meter')\n",
    "plt.legend()\n",
    "plt.grid(True)\n",
    "plt.show()"
   ]
  },
  {
   "cell_type": "code",
   "execution_count": null,
   "metadata": {},
   "outputs": [],
   "source": [
    "# Load your dataset into a pandas DataFrame\n",
    "data = pd.read_csv(\"asthma_in_children.csv\")\n",
    "\n",
    "# Filter the dataset for a specific group, such as \"Total\" or a specific age group (optional)\n",
    "asthma_data_filtered = data[(data['STUB_LABEL'] == 'Younger than 18 years') & \n",
    "                     (data['PANEL'] == 'Asthma attack in past 12 months') &\n",
    "                     (data['UNIT'] == \"Percent of children, crude\")]\n",
    "\n",
    "\n",
    "# Create a scatterplot\n",
    "plt.figure(figsize=(10, 6))\n",
    "plt.scatter(asthma_data_filtered['YEAR'], asthma_data_filtered['ESTIMATE'], color='blue', label='Asthma Percentage')\n",
    "\n",
    "# Add titles and labels\n",
    "plt.title('Percentage of Children with Asthma attacks in past 12 months Over Time', fontsize=14)\n",
    "plt.xlabel('Year', fontsize=12)\n",
    "plt.ylabel('Asthma Percentage (%)', fontsize=12)\n",
    "\n",
    "# Show the plot\n",
    "plt.grid(True)\n",
    "plt.show()"
   ]
  },
  {
   "cell_type": "code",
   "execution_count": null,
   "metadata": {},
   "outputs": [],
   "source": [
    "filtered_PM_data = filtered_PM_data.rename(columns={'year_id': 'YEAR'})\n",
    "\n",
    "print(filtered_PM_data.columns)\n",
    "#print(asthma_data_filtered.columns)\n",
    "# Merge both datasets on the 'year'\n",
    "merged_data = pd.merge(asthma_data_filtered, filtered_PM_data, on='YEAR')\n",
    "\n",
    "# Select features and target\n",
    "X = merged_data[['mean']]  # Particulate levels\n",
    "y = merged_data['ESTIMATE']  # Asthma attack percentage\n",
    "\n",
    "# Fit a linear regression model\n",
    "model = LinearRegression()\n",
    "model.fit(X, y)\n",
    "\n",
    "# Make predictions\n",
    "y_pred = model.predict(X)\n",
    "\n",
    "# Calculate Mean Squared Error (MSE)\n",
    "mse = mean_squared_error(y, y_pred)\n",
    "print(f\"Mean Squared Error: {mse}\")\n",
    "\n",
    "# Visualize the data and the regression line\n",
    "plt.figure(figsize=(10, 6))\n",
    "plt.scatter(X, y, color='blue', label='Actual Data')\n",
    "plt.plot(X, y_pred, color='red', label='Regression Line')\n",
    "\n",
    "# Add titles and labels\n",
    "plt.title('Relationship Between Particulate Matter and Asthma Attacks', fontsize=14)\n",
    "plt.xlabel('Particulate Matter (µg/m³)', fontsize=12)\n",
    "plt.ylabel('Asthma Attack Percentage', fontsize=12)\n",
    "plt.legend()\n",
    "\n",
    "# Show the plot\n",
    "plt.grid(True)\n",
    "plt.show()\n"
   ]
  },
  {
   "cell_type": "code",
   "execution_count": null,
   "metadata": {},
   "outputs": [],
   "source": [
    "# Select features and target\n",
    "X = merged_data[['mean']]  # Particulate levels\n",
    "y = merged_data['ESTIMATE']  # Asthma attack percentage\n",
    "\n",
    "# Transform features to include polynomial terms\n",
    "poly = PolynomialFeatures(degree=3)  # Degree 2 for quadratic polynomial fit\n",
    "X_poly = poly.fit_transform(X)\n",
    "\n",
    "# Fit a linear regression model to the polynomial features\n",
    "model = LinearRegression()\n",
    "model.fit(X_poly, y)\n",
    "\n",
    "# Make predictions\n",
    "y_pred = model.predict(X_poly)\n",
    "\n",
    "# Calculate Mean Squared Error (MSE)\n",
    "mse = mean_squared_error(y, y_pred)\n",
    "print(f\"Mean Squared Error: {mse}\")\n",
    "\n",
    "# Visualize the data and the polynomial fit\n",
    "plt.figure(figsize=(10, 6))\n",
    "plt.scatter(X, y, color='blue', label='Actual Data')\n",
    "plt.plot(X, y_pred, color='red', label='Polynomial Fit')\n",
    "\n",
    "# Add titles and labels\n",
    "plt.title('Relationship Between Particulate Matter and Asthma Attacks (Polynomial Fit)', fontsize=14)\n",
    "plt.xlabel('Particulate Matter (µg/m³)', fontsize=12)\n",
    "plt.ylabel('Asthma Attack Percentage', fontsize=12)\n",
    "plt.legend()\n",
    "\n",
    "# Show the plot\n",
    "plt.grid(True)\n",
    "plt.show()"
   ]
  },
  {
   "cell_type": "code",
   "execution_count": null,
   "metadata": {},
   "outputs": [],
   "source": []
  }
 ],
 "metadata": {
  "kernelspec": {
   "display_name": "Python 3",
   "language": "python",
   "name": "python3"
  },
  "language_info": {
   "codemirror_mode": {
    "name": "ipython",
    "version": 3
   },
   "file_extension": ".py",
   "mimetype": "text/x-python",
   "name": "python",
   "nbconvert_exporter": "python",
   "pygments_lexer": "ipython3",
   "version": "3.12.6"
  }
 },
 "nbformat": 4,
 "nbformat_minor": 2
}
